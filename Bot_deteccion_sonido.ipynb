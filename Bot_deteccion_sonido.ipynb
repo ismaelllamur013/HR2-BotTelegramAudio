{
  "nbformat": 4,
  "nbformat_minor": 0,
  "metadata": {
    "colab": {
      "provenance": [],
      "authorship_tag": "ABX9TyNMkpUp9sJMqUUthS7Nz0zM",
      "include_colab_link": true
    },
    "kernelspec": {
      "name": "python3",
      "display_name": "Python 3"
    },
    "language_info": {
      "name": "python"
    }
  },
  "cells": [
    {
      "cell_type": "markdown",
      "metadata": {
        "id": "view-in-github",
        "colab_type": "text"
      },
      "source": [
        "<a href=\"https://colab.research.google.com/github/ismaelllamur013/HR2-BotTelegramAudio/blob/main/Bot_deteccion_sonido.ipynb\" target=\"_parent\"><img src=\"https://colab.research.google.com/assets/colab-badge.svg\" alt=\"Open In Colab\"/></a>"
      ]
    },
    {
      "cell_type": "markdown",
      "source": [
        "Descripcion rapida:\n",
        "\n",
        "Proyecto englobado en el marco del Hackathon random 2.0, una juntada entre amigos para hacer royectos interesantes. En este edicion se busco hacer un bot de Telegram con tematica libre.\n",
        "\n",
        "En mi caso, busque realizar un bot de Telegram el cual tras ingresar un video este pueda hacer predicciones segun una categoria definida previamente, solo teniendo en cuenta el audio del video, usando como clasificador un modelo de machine learning entrenado en el momento. A su vez se aprobecho para evaluar que otras funciones se pueden utilizar en los bot de telegram, siendo esta la primera experiencia programando uno."
      ],
      "metadata": {
        "id": "0kdoyR0nPMiS"
      }
    },
    {
      "cell_type": "markdown",
      "source": [
        "# Instalar librerias"
      ],
      "metadata": {
        "id": "zLjABE_jFSyT"
      }
    },
    {
      "cell_type": "code",
      "source": [
        "pip install pydub"
      ],
      "metadata": {
        "colab": {
          "base_uri": "https://localhost:8080/"
        },
        "id": "M4Imv3P5Mmr8",
        "outputId": "78b1a052-93c6-4be8-d23e-fe8331810d49"
      },
      "execution_count": null,
      "outputs": [
        {
          "output_type": "stream",
          "name": "stdout",
          "text": [
            "Requirement already satisfied: pydub in /usr/local/lib/python3.10/dist-packages (0.25.1)\n"
          ]
        }
      ]
    },
    {
      "cell_type": "code",
      "source": [
        "pip install librosa"
      ],
      "metadata": {
        "colab": {
          "base_uri": "https://localhost:8080/"
        },
        "id": "SOUtkqW4M2ra",
        "outputId": "f373052f-f6c4-4923-9690-d8ae4730ff68"
      },
      "execution_count": null,
      "outputs": [
        {
          "output_type": "stream",
          "name": "stdout",
          "text": [
            "Requirement already satisfied: librosa in /usr/local/lib/python3.10/dist-packages (0.10.1)\n",
            "Requirement already satisfied: audioread>=2.1.9 in /usr/local/lib/python3.10/dist-packages (from librosa) (3.0.1)\n",
            "Requirement already satisfied: numpy!=1.22.0,!=1.22.1,!=1.22.2,>=1.20.3 in /usr/local/lib/python3.10/dist-packages (from librosa) (1.23.5)\n",
            "Requirement already satisfied: scipy>=1.2.0 in /usr/local/lib/python3.10/dist-packages (from librosa) (1.11.4)\n",
            "Requirement already satisfied: scikit-learn>=0.20.0 in /usr/local/lib/python3.10/dist-packages (from librosa) (1.2.2)\n",
            "Requirement already satisfied: joblib>=0.14 in /usr/local/lib/python3.10/dist-packages (from librosa) (1.3.2)\n",
            "Requirement already satisfied: decorator>=4.3.0 in /usr/local/lib/python3.10/dist-packages (from librosa) (4.4.2)\n",
            "Requirement already satisfied: numba>=0.51.0 in /usr/local/lib/python3.10/dist-packages (from librosa) (0.58.1)\n",
            "Requirement already satisfied: soundfile>=0.12.1 in /usr/local/lib/python3.10/dist-packages (from librosa) (0.12.1)\n",
            "Requirement already satisfied: pooch>=1.0 in /usr/local/lib/python3.10/dist-packages (from librosa) (1.8.0)\n",
            "Requirement already satisfied: soxr>=0.3.2 in /usr/local/lib/python3.10/dist-packages (from librosa) (0.3.7)\n",
            "Requirement already satisfied: typing-extensions>=4.1.1 in /usr/local/lib/python3.10/dist-packages (from librosa) (4.5.0)\n",
            "Requirement already satisfied: lazy-loader>=0.1 in /usr/local/lib/python3.10/dist-packages (from librosa) (0.3)\n",
            "Requirement already satisfied: msgpack>=1.0 in /usr/local/lib/python3.10/dist-packages (from librosa) (1.0.7)\n",
            "Requirement already satisfied: llvmlite<0.42,>=0.41.0dev0 in /usr/local/lib/python3.10/dist-packages (from numba>=0.51.0->librosa) (0.41.1)\n",
            "Requirement already satisfied: platformdirs>=2.5.0 in /usr/local/lib/python3.10/dist-packages (from pooch>=1.0->librosa) (4.1.0)\n",
            "Requirement already satisfied: packaging>=20.0 in /usr/local/lib/python3.10/dist-packages (from pooch>=1.0->librosa) (23.2)\n",
            "Requirement already satisfied: requests>=2.19.0 in /usr/local/lib/python3.10/dist-packages (from pooch>=1.0->librosa) (2.31.0)\n",
            "Requirement already satisfied: threadpoolctl>=2.0.0 in /usr/local/lib/python3.10/dist-packages (from scikit-learn>=0.20.0->librosa) (3.2.0)\n",
            "Requirement already satisfied: cffi>=1.0 in /usr/local/lib/python3.10/dist-packages (from soundfile>=0.12.1->librosa) (1.16.0)\n",
            "Requirement already satisfied: pycparser in /usr/local/lib/python3.10/dist-packages (from cffi>=1.0->soundfile>=0.12.1->librosa) (2.21)\n",
            "Requirement already satisfied: charset-normalizer<4,>=2 in /usr/local/lib/python3.10/dist-packages (from requests>=2.19.0->pooch>=1.0->librosa) (3.3.2)\n",
            "Requirement already satisfied: idna<4,>=2.5 in /usr/local/lib/python3.10/dist-packages (from requests>=2.19.0->pooch>=1.0->librosa) (3.6)\n",
            "Requirement already satisfied: urllib3<3,>=1.21.1 in /usr/local/lib/python3.10/dist-packages (from requests>=2.19.0->pooch>=1.0->librosa) (2.0.7)\n",
            "Requirement already satisfied: certifi>=2017.4.17 in /usr/local/lib/python3.10/dist-packages (from requests>=2.19.0->pooch>=1.0->librosa) (2023.11.17)\n"
          ]
        }
      ]
    },
    {
      "cell_type": "code",
      "execution_count": null,
      "metadata": {
        "colab": {
          "base_uri": "https://localhost:8080/"
        },
        "id": "1GwaK9JHJzXu",
        "outputId": "6284a7c9-0135-4736-8e4a-2aeca76dfeae"
      },
      "outputs": [
        {
          "output_type": "stream",
          "name": "stdout",
          "text": [
            "Requirement already satisfied: python-telegram-bot==13.7 in /usr/local/lib/python3.10/dist-packages (13.7)\n",
            "Requirement already satisfied: certifi in /usr/local/lib/python3.10/dist-packages (from python-telegram-bot==13.7) (2023.11.17)\n",
            "Requirement already satisfied: tornado>=6.1 in /usr/local/lib/python3.10/dist-packages (from python-telegram-bot==13.7) (6.3.2)\n",
            "Requirement already satisfied: APScheduler==3.6.3 in /usr/local/lib/python3.10/dist-packages (from python-telegram-bot==13.7) (3.6.3)\n",
            "Requirement already satisfied: pytz>=2018.6 in /usr/local/lib/python3.10/dist-packages (from python-telegram-bot==13.7) (2023.3.post1)\n",
            "Requirement already satisfied: cachetools==4.2.2 in /usr/local/lib/python3.10/dist-packages (from python-telegram-bot==13.7) (4.2.2)\n",
            "Requirement already satisfied: setuptools>=0.7 in /usr/local/lib/python3.10/dist-packages (from APScheduler==3.6.3->python-telegram-bot==13.7) (67.7.2)\n",
            "Requirement already satisfied: six>=1.4.0 in /usr/local/lib/python3.10/dist-packages (from APScheduler==3.6.3->python-telegram-bot==13.7) (1.16.0)\n",
            "Requirement already satisfied: tzlocal>=1.2 in /usr/local/lib/python3.10/dist-packages (from APScheduler==3.6.3->python-telegram-bot==13.7) (5.2)\n"
          ]
        }
      ],
      "source": [
        "pip install python-telegram-bot==13.7"
      ]
    },
    {
      "cell_type": "code",
      "source": [
        "pip install moviepy"
      ],
      "metadata": {
        "colab": {
          "base_uri": "https://localhost:8080/"
        },
        "id": "fGVLucYgiL8G",
        "outputId": "90ad2e72-728a-4dbd-89ba-7126e58b8352"
      },
      "execution_count": null,
      "outputs": [
        {
          "output_type": "stream",
          "name": "stdout",
          "text": [
            "Requirement already satisfied: moviepy in /usr/local/lib/python3.10/dist-packages (1.0.3)\n",
            "Requirement already satisfied: decorator<5.0,>=4.0.2 in /usr/local/lib/python3.10/dist-packages (from moviepy) (4.4.2)\n",
            "Requirement already satisfied: tqdm<5.0,>=4.11.2 in /usr/local/lib/python3.10/dist-packages (from moviepy) (4.66.1)\n",
            "Requirement already satisfied: requests<3.0,>=2.8.1 in /usr/local/lib/python3.10/dist-packages (from moviepy) (2.31.0)\n",
            "Requirement already satisfied: proglog<=1.0.0 in /usr/local/lib/python3.10/dist-packages (from moviepy) (0.1.10)\n",
            "Requirement already satisfied: numpy>=1.17.3 in /usr/local/lib/python3.10/dist-packages (from moviepy) (1.23.5)\n",
            "Requirement already satisfied: imageio<3.0,>=2.5 in /usr/local/lib/python3.10/dist-packages (from moviepy) (2.31.6)\n",
            "Requirement already satisfied: imageio-ffmpeg>=0.2.0 in /usr/local/lib/python3.10/dist-packages (from moviepy) (0.4.9)\n",
            "Requirement already satisfied: pillow<10.1.0,>=8.3.2 in /usr/local/lib/python3.10/dist-packages (from imageio<3.0,>=2.5->moviepy) (9.4.0)\n",
            "Requirement already satisfied: setuptools in /usr/local/lib/python3.10/dist-packages (from imageio-ffmpeg>=0.2.0->moviepy) (67.7.2)\n",
            "Requirement already satisfied: charset-normalizer<4,>=2 in /usr/local/lib/python3.10/dist-packages (from requests<3.0,>=2.8.1->moviepy) (3.3.2)\n",
            "Requirement already satisfied: idna<4,>=2.5 in /usr/local/lib/python3.10/dist-packages (from requests<3.0,>=2.8.1->moviepy) (3.6)\n",
            "Requirement already satisfied: urllib3<3,>=1.21.1 in /usr/local/lib/python3.10/dist-packages (from requests<3.0,>=2.8.1->moviepy) (2.0.7)\n",
            "Requirement already satisfied: certifi>=2017.4.17 in /usr/local/lib/python3.10/dist-packages (from requests<3.0,>=2.8.1->moviepy) (2023.11.17)\n"
          ]
        }
      ]
    },
    {
      "cell_type": "markdown",
      "source": [
        "# Importar librerias"
      ],
      "metadata": {
        "id": "hd0Mx8VrFvI_"
      }
    },
    {
      "cell_type": "code",
      "source": [
        "from pydub import AudioSegment\n",
        "import librosa\n",
        "import numpy as np\n",
        "from scipy.io import wavfile\n",
        "\n",
        "\n",
        "from telegram import Update\n",
        "from telegram.ext import Updater, CommandHandler,  MessageHandler, CallbackQueryHandler, CallbackContext, Filters\n",
        "from telegram import InlineKeyboardButton, InlineKeyboardMarkup\n",
        "import os\n",
        "import time\n",
        "from moviepy.editor import VideoFileClip"
      ],
      "metadata": {
        "id": "piOTBf4tGEZM"
      },
      "execution_count": null,
      "outputs": []
    },
    {
      "cell_type": "markdown",
      "source": [
        "# Funciones\n"
      ],
      "metadata": {
        "id": "RcoxVThJHD7p"
      }
    },
    {
      "cell_type": "markdown",
      "source": [
        "\"remuentrar_audio\" Es una funcion que utilizaremos para definir la frecuencia de muestreo del audio, obtenido del video, que se ingresara a nuestro modelo de Machine Learning. Se ingresa input_audio (nombre del archivo inicial), output_audio (nombre del archivo final), nueva_frecuencia (frecuencia de muestro)"
      ],
      "metadata": {
        "id": "bAATGQFmHNXS"
      }
    },
    {
      "cell_type": "code",
      "source": [
        "def remuestrear_audio(input_audio, output_audio, nueva_frecuencia):\n",
        "    # Cargar el archivo de audio\n",
        "    audio = AudioSegment.from_file(input_audio)\n",
        "    # Realizar el re-muestreo a la nueva frecuencia\n",
        "    audio_remuestreado = audio.set_frame_rate(nueva_frecuencia)\n",
        "    # Guardar el audio re-muestreado en un nuevo archivo\n",
        "    audio_remuestreado.export(output_audio, format=\"wav\")"
      ],
      "metadata": {
        "id": "mym8fXOGF0Cy"
      },
      "execution_count": null,
      "outputs": []
    },
    {
      "cell_type": "markdown",
      "source": [
        "\"ajustar_longitud_audio\" Al ingresar a nuestro modelo un audio necesitaremos que tenga una longuitud especifica, est la ingresaremos en longitud_deseada que sera la frecuencia de muestreo por los segundos que aceptemos"
      ],
      "metadata": {
        "id": "c8Yv8QJRH_oX"
      }
    },
    {
      "cell_type": "code",
      "source": [
        "def ajustar_longitud_audio(audio_path, longitud_deseada):\n",
        "    # Cargar el archivo de audio\n",
        "    audio, sample_rate = librosa.load(audio_path, sr=None)\n",
        "\n",
        "    # Ajustar la longitud del audio\n",
        "    if len(audio) > longitud_deseada:\n",
        "        audio_ajustado = audio[:longitud_deseada]\n",
        "    elif len(audio) < longitud_deseada:\n",
        "        padding = longitud_deseada - len(audio)\n",
        "        audio_ajustado = np.pad(audio, (0, padding), mode='constant')\n",
        "    else:\n",
        "        audio_ajustado = audio\n",
        "    return audio_ajustado, sample_rate"
      ],
      "metadata": {
        "id": "JOGNP3hZMrv6"
      },
      "execution_count": null,
      "outputs": []
    },
    {
      "cell_type": "markdown",
      "source": [
        "\"extraer_caracteristicas\" La utilizaremos para elegir la caracteristica que evaluaremos en nuestro modelo, en este caso en la señal de audio completa"
      ],
      "metadata": {
        "id": "uFYsdCJOJlq8"
      }
    },
    {
      "cell_type": "code",
      "source": [
        "def extraer_caracteristicas(audio_path):\n",
        "    # Implementa aquí la extracción de características del audio\n",
        "    # Puedes utilizar bibliotecas como librosa para extraer características\n",
        "    # Aquí, se utiliza un ejemplo simple, considerando la longitud del audio\n",
        "    _, audio_data = wavfile.read(audio_path)\n",
        "    #longitud_audio = len(audio_data)\n",
        "    #return np.array([longitud_audio])\n",
        "    return audio_data"
      ],
      "metadata": {
        "id": "5sacZLzcNoQZ"
      },
      "execution_count": null,
      "outputs": []
    },
    {
      "cell_type": "markdown",
      "source": [
        "\"start\" Es la funcion que inicializado el bot o utilizando el comando /start, nos dara un cartel de inicio y nos permitir elegir entre 4 botones distintos con sus respectivas respuests cada uno"
      ],
      "metadata": {
        "id": "EmXGCYMiJ2HC"
      }
    },
    {
      "cell_type": "code",
      "source": [
        "def start(update: Update, context: CallbackContext) -> None:\n",
        "    user = update.effective_user\n",
        "    update.message.reply_text(f'Hola {user.first_name}! Que pasa perro, estas para dejar la carrera?')\n",
        "\n",
        "    # Crear un teclado de respuesta en línea con un botón\n",
        "    keyboard = [[InlineKeyboardButton(\"Saludar\", callback_data='saludar')],\n",
        "                [InlineKeyboardButton(\"Llorar\", callback_data='llorar')],\n",
        "                [InlineKeyboardButton(\"Invitar un matesito\", callback_data='matesito')],\n",
        "                [InlineKeyboardButton(\"Secreto\", callback_data='secreto')]]\n",
        "\n",
        "    reply_markup = InlineKeyboardMarkup(keyboard)\n",
        "    update.message.reply_text('¿Qué te gustaría hacer?', reply_markup=reply_markup)"
      ],
      "metadata": {
        "id": "poUzu2JBGQlQ"
      },
      "execution_count": null,
      "outputs": []
    },
    {
      "cell_type": "markdown",
      "source": [
        "\"button_click\" define que sucedera elegido alguno de los botones previamente nombrados"
      ],
      "metadata": {
        "id": "ICqGbYtxKVtO"
      }
    },
    {
      "cell_type": "code",
      "source": [
        "# Define la función para manejar la pulsación de botones en el teclado de respuesta en línea\n",
        "def button_click(update: Update, context: CallbackContext) -> None:\n",
        "    query = update.callback_query\n",
        "    query.answer()\n",
        "\n",
        "    if query.data == 'saludar':\n",
        "        user = update.effective_user\n",
        "        query.edit_message_text(f'Saludos, {user.first_name}!')\n",
        "\n",
        "    if query.data == 'llorar':\n",
        "        user = update.effective_user\n",
        "        query.edit_message_text(f'Eeehh perro que te pasa')\n",
        "\n",
        "    if query.data == 'matesito':\n",
        "        user = update.effective_user\n",
        "        query.edit_message_text(f'🧉')\n",
        "\n",
        "    if query.data == 'secreto':\n",
        "        user = update.effective_user\n",
        "        query.edit_message_text(f'mmmmmmmmmmmm')"
      ],
      "metadata": {
        "id": "HehwZG7CGVr5"
      },
      "execution_count": null,
      "outputs": []
    },
    {
      "cell_type": "code",
      "source": [
        "# Define la función para el comando /help\n",
        "def help_command(update, context):\n",
        "    update.message.reply_text('Puedes enviar mensajes y este bot responderá.')"
      ],
      "metadata": {
        "id": "hUpOdcfMGZMQ"
      },
      "execution_count": null,
      "outputs": []
    },
    {
      "cell_type": "markdown",
      "source": [
        "\"handle_video\" la funcion recibe el video y lo guarda en una carpeta definida previamente, y avisa que se recibio con exito"
      ],
      "metadata": {
        "id": "Rl4nooKiK1GJ"
      }
    },
    {
      "cell_type": "code",
      "source": [
        "# Directorio donde se guardarán los videos\n",
        "VIDEO_DIRECTORY = \"videos\"\n",
        "# Crear el directorio si no existe\n",
        "os.makedirs(VIDEO_DIRECTORY, exist_ok=True)\n",
        "# Define la función para manejar mensajes de video\n",
        "def handle_video(update: Update, context: CallbackContext) -> None:\n",
        "    video_file = update.message.video.file_id\n",
        "    video_caption = update.message.caption\n",
        "    # Proporciona un nombre específico para el video (puedes personalizar esto)\n",
        "    video_filename = \"video_personalizado.mp4\"\n",
        "    # Descarga el video\n",
        "    video = context.bot.get_file(video_file, timeout=20)\n",
        "    video_path = os.path.join(VIDEO_DIRECTORY, f\"{video_file}.mp4\")\n",
        "    video.download(video_path)\n",
        "    # Responde al usuario\n",
        "    update.message.reply_text(f\"¡Video guardado con éxito!\")"
      ],
      "metadata": {
        "id": "ic8KToHiGfls"
      },
      "execution_count": null,
      "outputs": []
    },
    {
      "cell_type": "markdown",
      "source": [
        "\"send_audio\" recibe el video, obtiene el audio, lo guarda y envia al bot para que la persona pueda descargarlo"
      ],
      "metadata": {
        "id": "MD0xsPG6LZ12"
      }
    },
    {
      "cell_type": "code",
      "source": [
        "def extraer_audio(input_video, output_audio):\n",
        "    # Cargar el archivo de video\n",
        "    video_clip = VideoFileClip(input_video)\n",
        "    # Extraer el audio del video\n",
        "    audio_clip = video_clip.audio\n",
        "    # Guardar el audio en un archivo separado\n",
        "    audio_clip.write_audiofile(output_audio)\n",
        "    # Cerrar los clips para liberar recursos\n",
        "    audio_clip.close()\n",
        "    video_clip.close()"
      ],
      "metadata": {
        "id": "vLw7yOxhGk0F"
      },
      "execution_count": null,
      "outputs": []
    },
    {
      "cell_type": "code",
      "source": [
        "# Define la función para el comando /audio\n",
        "def send_audio(update: Update, context: CallbackContext) -> None:\n",
        "    # Ejemplo de uso\n",
        "    input_video = \"/content/videos/\"+os.listdir(\"videos\")[0]\n",
        "    output_audio = \"audio_personalizado.wav\"\n",
        "    extraer_audio(input_video, output_audio)\n",
        "    update.message.reply_text(update.message.text)\n",
        "    # Obtén el identificador del chat\n",
        "    chat_id = update.message.chat_id\n",
        "    # Construye la ruta del archivo de audio\n",
        "    audio_file_path = os.path.join(\"/content\", \"audio_personalizado.wav\")\n",
        "    # Envía el archivo de audio al chat\n",
        "    context.bot.send_audio(chat_id=chat_id, audio=open(audio_file_path, 'rb'), title=\"Audio de ejemplo\")"
      ],
      "metadata": {
        "id": "AlwyW2HiGolr"
      },
      "execution_count": null,
      "outputs": []
    },
    {
      "cell_type": "markdown",
      "source": [
        "\"predictor\" es la funcion en donde estara nuesto modelo previamente entrenado, se le ingresara el audio del video y se lo evaluara con el fin de descubir si pertenece o la categoria del modelo entrenado"
      ],
      "metadata": {
        "id": "D5_9X1gvLw2N"
      }
    },
    {
      "cell_type": "code",
      "source": [
        "def predictor(update: Update, context: CallbackContext) -> None:\n",
        "    # Ejemplo de uso\n",
        "    input_audio = \"audio_personalizado.wav\"\n",
        "    output_audio_remuestreado = \"audio_remuestreado.wav\"\n",
        "    nueva_frecuencia = 44100  # Puedes ajustar la frecuencia según tus necesidades\n",
        "    remuestrear_audio(input_audio, output_audio_remuestreado, nueva_frecuencia)\n",
        "    # Longitud deseada para todos los archivos de audio (ajusta según tus necesidades)\n",
        "    longitud_deseada = 44100*30 # Ejemplo: 1 segundo a 44.1 kHz\n",
        "    # Ruta del archivo de entrada y salida (ajusta según tus necesidades)\n",
        "    audio_input_path = \"audio_remuestreado.wav\"\n",
        "    audio_output_path = \"audio_fin.wav\"\n",
        "    # Cargar y ajustar la longitud del audio\n",
        "    audio_ajustado, sample_rate = ajustar_longitud_audio(audio_input_path, longitud_deseada)\n",
        "    # Exportar el audio ajustado a un nuevo archivo WAV\n",
        "    wavfile.write(audio_output_path, sample_rate, audio_ajustado)\n",
        "    # ... (Código anterior para obtener coeficientes e intercepto)\n",
        "    audio_paths_tipo = [\"audio_fin.wav\"]\n",
        "    X = np.array([extraer_caracteristicas(path) for path in audio_paths_tipo])\n",
        "    # Nuevos datos de entrada para hacer predicciones\n",
        "    nuevos_datos = X[-1]\n",
        "    # Calcular el valor de decisión sin utilizar el objeto modelo\n",
        "    decision_values = np.dot(coeficientes.reshape(1,-1), nuevos_datos.T) - intercepto.reshape(1,-1)\n",
        "    # Aplicar la función de signo para obtener las predicciones (1 para clase positiva, -1 para clase negativa)\n",
        "    predicciones = np.sign(decision_values)\n",
        "    # Imprimir las predicciones\n",
        "    if predicciones == 1:\n",
        "        update.message.reply_text(f\"Una sodita\")\n",
        "    else:\n",
        "        update.message.reply_text(f\"ESO NO ES UNA Sodita, PAPU\")\n",
        "\n",
        "    print(\"Predicciones:\", predicciones)\n"
      ],
      "metadata": {
        "id": "phVYz2zlGsRO"
      },
      "execution_count": null,
      "outputs": []
    },
    {
      "cell_type": "markdown",
      "source": [
        "Se requiere introducir los coeficientes del modelo (en este caso una maquina de soportes) y el token de nuestro bot"
      ],
      "metadata": {
        "id": "yYM-AckrMLb7"
      }
    },
    {
      "cell_type": "code",
      "source": [
        "archivo_txt = 'coeficientes.txt'\n",
        "# Carga los datos desde el archivo de texto usando numpy.loadtxt\n",
        "coeficientes = np.loadtxt(archivo_txt)\n",
        "\n",
        "archivo_txt = 'intercepto.txt'\n",
        "# Carga los datos desde el archivo de texto usando numpy.loadtxt\n",
        "intercepto = np.loadtxt(archivo_txt)"
      ],
      "metadata": {
        "id": "2rjqFoBwZpkH"
      },
      "execution_count": null,
      "outputs": []
    },
    {
      "cell_type": "code",
      "source": [
        "# Configura el token de tu bot aquí\n",
        "TOKEN = 'AQUI SE INTRODUCE EL TOKEN'"
      ],
      "metadata": {
        "id": "Qfhfo2UBG0HG"
      },
      "execution_count": null,
      "outputs": []
    },
    {
      "cell_type": "markdown",
      "source": [
        "\"main\" es nuestra funcion principal"
      ],
      "metadata": {
        "id": "jJo0f-IGMZpK"
      }
    },
    {
      "cell_type": "code",
      "source": [
        "def main():\n",
        "    # Crea el objeto Updater y pasa el token de tu bot\n",
        "    updater = Updater(TOKEN, use_context=True)\n",
        "\n",
        "    # Obtén el despachador para registrar manejadores\n",
        "    dp = updater.dispatcher\n",
        "\n",
        "    # Registra los manejadores de comandos\n",
        "    dp.add_handler(CommandHandler(\"start\", start))\n",
        "    dp.add_handler(CommandHandler(\"ayuda\", help_command))\n",
        "    dp.add_handler(MessageHandler(Filters.video, handle_video))\n",
        "    dp.add_handler(CommandHandler(\"audio\", send_audio))\n",
        "    dp.add_handler(CommandHandler(\"sodita\", predictor))\n",
        "\n",
        "\n",
        "    # Registra el manejador para manejar la pulsación de botones en el teclado de respuesta en línea\n",
        "    dp.add_handler(CallbackQueryHandler(button_click))\n",
        "\n",
        "    # Inicia el bot\n",
        "    updater.start_polling()\n",
        "\n",
        "    # Ejecuta el bot hasta que se presione Ctrl+C\n",
        "    updater.idle()\n",
        "\n",
        "if __name__ == '__main__':\n",
        "    main()"
      ],
      "metadata": {
        "colab": {
          "base_uri": "https://localhost:8080/"
        },
        "id": "aB6zzzLUcOLH",
        "outputId": "9a4cd267-ebe8-42b2-8234-9d9464ba68f0"
      },
      "execution_count": null,
      "outputs": [
        {
          "output_type": "stream",
          "name": "stdout",
          "text": [
            "MoviePy - Writing audio in audio_personalizado.wav\n"
          ]
        },
        {
          "output_type": "stream",
          "name": "stderr",
          "text": [
            "                                                        "
          ]
        },
        {
          "output_type": "stream",
          "name": "stdout",
          "text": [
            "MoviePy - Done.\n"
          ]
        },
        {
          "output_type": "stream",
          "name": "stderr",
          "text": [
            "\r"
          ]
        },
        {
          "output_type": "stream",
          "name": "stdout",
          "text": [
            "Predicciones: [[1.]]\n"
          ]
        }
      ]
    }
  ]
}